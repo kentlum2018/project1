{
 "cells": [
  {
   "cell_type": "code",
   "execution_count": null,
   "metadata": {},
   "outputs": [],
   "source": [
    "#pull all 12 months data\n",
    "#using FordGO from the SF Bay area and includes 5 cities"
   ]
  },
  {
   "cell_type": "code",
   "execution_count": 1,
   "metadata": {},
   "outputs": [],
   "source": [
    "import zipfile, urllib.request, shutil\n",
    "import pandas as pd\n",
    "import numpy as np\n",
    "import glob\n",
    "import citipy\n",
    "import csv\n",
    "import os\n",
    "from uszipcode import SearchEngine, SimpleZipcode, Zipcode\n",
    "search = SearchEngine()\n",
    "import matplotlib.pyplot as plt\n",
    "import seaborn as sns\n",
    "from datetime import datetime\n",
    "import time\n",
    "import datetime\n"
   ]
  },
  {
   "cell_type": "code",
   "execution_count": 2,
   "metadata": {},
   "outputs": [],
   "source": [
    "#id the folder that has all the zip files\n",
    "#create a glob for the path and file names\n",
    "#create a empty list for holding everything \n",
    "path = r'C:\\Users\\Gogster\\Documents\\GitHub\\RawData'\n",
    "\n",
    "allfiles=glob.glob(path+\"/*.zip\")\n",
    "\n",
    "data_list=[]\n"
   ]
  },
  {
   "cell_type": "code",
   "execution_count": 3,
   "metadata": {},
   "outputs": [],
   "source": [
    "#list comprehend through the folder with all the zip files\n",
    "#append to the dataframe merging all the months\n",
    "\n",
    "for z_file in allfiles:\n",
    "    df=pd.read_csv(z_file, compression='zip',header=0,sep=',',quotechar='\"')\n",
    "    data_list.append(df)\n",
    "\n",
    "all_frame=pd.concat(data_list,axis=0,ignore_index=True)    "
   ]
  },
  {
   "cell_type": "code",
   "execution_count": null,
   "metadata": {},
   "outputs": [],
   "source": [
    "all_frame.head()"
   ]
  },
  {
   "cell_type": "code",
   "execution_count": 4,
   "metadata": {},
   "outputs": [
    {
     "data": {
      "text/plain": [
       "(1863721, 16)"
      ]
     },
     "execution_count": 4,
     "metadata": {},
     "output_type": "execute_result"
    }
   ],
   "source": [
    "all_frame.shape\n",
    "#this is all the rows 1.863721M by 16"
   ]
  },
  {
   "cell_type": "code",
   "execution_count": 5,
   "metadata": {},
   "outputs": [],
   "source": [
    "#create 2 new rows 1 for the zip code and one for the city name\n",
    "#city \n",
    "all_frame.insert(loc=7, column='city', value='abc')\n",
    "#zip codes\n",
    "all_frame.insert(loc=8, column='zip_code', value='123456')\n",
    "#age in years of users\n",
    "all_frame.insert(loc=16, column='age', value ='99')"
   ]
  },
  {
   "cell_type": "code",
   "execution_count": null,
   "metadata": {},
   "outputs": [],
   "source": [
    "#display new table\n",
    "all_frame.head()"
   ]
  },
  {
   "cell_type": "code",
   "execution_count": 6,
   "metadata": {
    "scrolled": true
   },
   "outputs": [
    {
     "name": "stderr",
     "output_type": "stream",
     "text": [
      "C:\\Users\\Gogster\\Anaconda3\\lib\\site-packages\\pandas\\core\\frame.py:3697: SettingWithCopyWarning: \n",
      "A value is trying to be set on a copy of a slice from a DataFrame\n",
      "\n",
      "See the caveats in the documentation: http://pandas.pydata.org/pandas-docs/stable/indexing.html#indexing-view-versus-copy\n",
      "  errors=errors)\n"
     ]
    }
   ],
   "source": [
    "#remove rows which have Nan values\n",
    "drop_frame= all_frame.dropna(axis=0,how='any',inplace=False)\n",
    "#delete extra columns in the data that are not relavent\n",
    "drop_frame.drop(['bike_share_for_all_trip'],axis = 1, inplace = True)\n",
    "#display the dataframe\n",
    "#drop_frame.head()"
   ]
  },
  {
   "cell_type": "code",
   "execution_count": 7,
   "metadata": {},
   "outputs": [
    {
     "data": {
      "text/plain": [
       "(1741556, 18)"
      ]
     },
     "execution_count": 7,
     "metadata": {},
     "output_type": "execute_result"
    }
   ],
   "source": [
    "drop_frame.shape\n",
    "# 1.741556 M and 18"
   ]
  },
  {
   "cell_type": "code",
   "execution_count": 8,
   "metadata": {},
   "outputs": [],
   "source": [
    "clean_df=pd.DataFrame(drop_frame)"
   ]
  },
  {
   "cell_type": "code",
   "execution_count": 9,
   "metadata": {},
   "outputs": [
    {
     "data": {
      "text/html": [
       "<div>\n",
       "<style scoped>\n",
       "    .dataframe tbody tr th:only-of-type {\n",
       "        vertical-align: middle;\n",
       "    }\n",
       "\n",
       "    .dataframe tbody tr th {\n",
       "        vertical-align: top;\n",
       "    }\n",
       "\n",
       "    .dataframe thead th {\n",
       "        text-align: right;\n",
       "    }\n",
       "</style>\n",
       "<table border=\"1\" class=\"dataframe\">\n",
       "  <thead>\n",
       "    <tr style=\"text-align: right;\">\n",
       "      <th></th>\n",
       "      <th>duration_sec</th>\n",
       "      <th>start_time</th>\n",
       "      <th>end_time</th>\n",
       "      <th>start_station_id</th>\n",
       "      <th>start_station_name</th>\n",
       "      <th>start_station_latitude</th>\n",
       "      <th>start_station_longitude</th>\n",
       "      <th>city</th>\n",
       "      <th>zip_code</th>\n",
       "      <th>end_station_id</th>\n",
       "      <th>end_station_name</th>\n",
       "      <th>end_station_latitude</th>\n",
       "      <th>end_station_longitude</th>\n",
       "      <th>bike_id</th>\n",
       "      <th>user_type</th>\n",
       "      <th>member_birth_year</th>\n",
       "      <th>age</th>\n",
       "      <th>member_gender</th>\n",
       "    </tr>\n",
       "  </thead>\n",
       "  <tbody>\n",
       "    <tr>\n",
       "      <th>0</th>\n",
       "      <td>75284</td>\n",
       "      <td>2018-01-31 22:52:35.2390</td>\n",
       "      <td>2018-02-01 19:47:19.8240</td>\n",
       "      <td>120.0</td>\n",
       "      <td>Mission Dolores Park</td>\n",
       "      <td>37.761420</td>\n",
       "      <td>-122.426435</td>\n",
       "      <td>abc</td>\n",
       "      <td>123456</td>\n",
       "      <td>285.0</td>\n",
       "      <td>Webster St at O'Farrell St</td>\n",
       "      <td>37.783521</td>\n",
       "      <td>-122.431158</td>\n",
       "      <td>2765</td>\n",
       "      <td>Subscriber</td>\n",
       "      <td>1986</td>\n",
       "      <td>33</td>\n",
       "      <td>Male</td>\n",
       "    </tr>\n",
       "    <tr>\n",
       "      <th>2</th>\n",
       "      <td>71576</td>\n",
       "      <td>2018-01-31 14:23:55.8890</td>\n",
       "      <td>2018-02-01 10:16:52.1160</td>\n",
       "      <td>304.0</td>\n",
       "      <td>Jackson St at 5th St</td>\n",
       "      <td>37.348759</td>\n",
       "      <td>-121.894798</td>\n",
       "      <td>abc</td>\n",
       "      <td>123456</td>\n",
       "      <td>296.0</td>\n",
       "      <td>5th St at Virginia St</td>\n",
       "      <td>37.325998</td>\n",
       "      <td>-121.877120</td>\n",
       "      <td>3039</td>\n",
       "      <td>Customer</td>\n",
       "      <td>1996</td>\n",
       "      <td>23</td>\n",
       "      <td>Male</td>\n",
       "    </tr>\n",
       "    <tr>\n",
       "      <th>4</th>\n",
       "      <td>39966</td>\n",
       "      <td>2018-01-31 19:52:24.6670</td>\n",
       "      <td>2018-02-01 06:58:31.0530</td>\n",
       "      <td>74.0</td>\n",
       "      <td>Laguna St at Hayes St</td>\n",
       "      <td>37.776435</td>\n",
       "      <td>-122.426244</td>\n",
       "      <td>abc</td>\n",
       "      <td>123456</td>\n",
       "      <td>19.0</td>\n",
       "      <td>Post St at Kearny St</td>\n",
       "      <td>37.788975</td>\n",
       "      <td>-122.403452</td>\n",
       "      <td>617</td>\n",
       "      <td>Subscriber</td>\n",
       "      <td>1991</td>\n",
       "      <td>28</td>\n",
       "      <td>Male</td>\n",
       "    </tr>\n",
       "    <tr>\n",
       "      <th>6</th>\n",
       "      <td>453</td>\n",
       "      <td>2018-01-31 23:53:53.6320</td>\n",
       "      <td>2018-02-01 00:01:26.8050</td>\n",
       "      <td>110.0</td>\n",
       "      <td>17th &amp; Folsom Street Park (17th St at Folsom St)</td>\n",
       "      <td>37.763708</td>\n",
       "      <td>-122.415204</td>\n",
       "      <td>abc</td>\n",
       "      <td>123456</td>\n",
       "      <td>134.0</td>\n",
       "      <td>Valencia St at 24th St</td>\n",
       "      <td>37.752428</td>\n",
       "      <td>-122.420628</td>\n",
       "      <td>3571</td>\n",
       "      <td>Subscriber</td>\n",
       "      <td>1988</td>\n",
       "      <td>31</td>\n",
       "      <td>Male</td>\n",
       "    </tr>\n",
       "    <tr>\n",
       "      <th>7</th>\n",
       "      <td>180</td>\n",
       "      <td>2018-01-31 23:52:09.9030</td>\n",
       "      <td>2018-01-31 23:55:10.8070</td>\n",
       "      <td>81.0</td>\n",
       "      <td>Berry St at 4th St</td>\n",
       "      <td>37.775880</td>\n",
       "      <td>-122.393170</td>\n",
       "      <td>abc</td>\n",
       "      <td>123456</td>\n",
       "      <td>93.0</td>\n",
       "      <td>4th St at Mission Bay Blvd S</td>\n",
       "      <td>37.770407</td>\n",
       "      <td>-122.391198</td>\n",
       "      <td>1403</td>\n",
       "      <td>Subscriber</td>\n",
       "      <td>1980</td>\n",
       "      <td>39</td>\n",
       "      <td>Male</td>\n",
       "    </tr>\n",
       "  </tbody>\n",
       "</table>\n",
       "</div>"
      ],
      "text/plain": [
       "   duration_sec                start_time                  end_time  \\\n",
       "0         75284  2018-01-31 22:52:35.2390  2018-02-01 19:47:19.8240   \n",
       "2         71576  2018-01-31 14:23:55.8890  2018-02-01 10:16:52.1160   \n",
       "4         39966  2018-01-31 19:52:24.6670  2018-02-01 06:58:31.0530   \n",
       "6           453  2018-01-31 23:53:53.6320  2018-02-01 00:01:26.8050   \n",
       "7           180  2018-01-31 23:52:09.9030  2018-01-31 23:55:10.8070   \n",
       "\n",
       "   start_station_id                                start_station_name  \\\n",
       "0             120.0                              Mission Dolores Park   \n",
       "2             304.0                              Jackson St at 5th St   \n",
       "4              74.0                             Laguna St at Hayes St   \n",
       "6             110.0  17th & Folsom Street Park (17th St at Folsom St)   \n",
       "7              81.0                                Berry St at 4th St   \n",
       "\n",
       "   start_station_latitude  start_station_longitude city zip_code  \\\n",
       "0               37.761420              -122.426435  abc   123456   \n",
       "2               37.348759              -121.894798  abc   123456   \n",
       "4               37.776435              -122.426244  abc   123456   \n",
       "6               37.763708              -122.415204  abc   123456   \n",
       "7               37.775880              -122.393170  abc   123456   \n",
       "\n",
       "   end_station_id              end_station_name  end_station_latitude  \\\n",
       "0           285.0    Webster St at O'Farrell St             37.783521   \n",
       "2           296.0         5th St at Virginia St             37.325998   \n",
       "4            19.0          Post St at Kearny St             37.788975   \n",
       "6           134.0        Valencia St at 24th St             37.752428   \n",
       "7            93.0  4th St at Mission Bay Blvd S             37.770407   \n",
       "\n",
       "   end_station_longitude  bike_id   user_type  member_birth_year  age  \\\n",
       "0            -122.431158     2765  Subscriber               1986   33   \n",
       "2            -121.877120     3039    Customer               1996   23   \n",
       "4            -122.403452      617  Subscriber               1991   28   \n",
       "6            -122.420628     3571  Subscriber               1988   31   \n",
       "7            -122.391198     1403  Subscriber               1980   39   \n",
       "\n",
       "  member_gender  \n",
       "0          Male  \n",
       "2          Male  \n",
       "4          Male  \n",
       "6          Male  \n",
       "7          Male  "
      ]
     },
     "execution_count": 9,
     "metadata": {},
     "output_type": "execute_result"
    }
   ],
   "source": [
    "#find age of user by subtracting birth year from current year\n",
    "thisyear=2019\n",
    "clean_df['age'] = thisyear - clean_df['member_birth_year']\n",
    "clean_df['age'] = clean_df['age'].astype(int)\n",
    "clean_df['member_birth_year'] = clean_df['member_birth_year'].astype(int)\n",
    "clean_df.head()"
   ]
  },
  {
   "cell_type": "code",
   "execution_count": 10,
   "metadata": {},
   "outputs": [
    {
     "data": {
      "text/plain": [
       "(1718882, 18)"
      ]
     },
     "execution_count": 10,
     "metadata": {},
     "output_type": "execute_result"
    }
   ],
   "source": [
    "max_age = 65\n",
    "# under65_df = drop_frame.loc[:, (drop_frame.isnull().sum(axis=0) <= max_age)]\n",
    "# under65_df.shape\n",
    "#did not work\n",
    "\n",
    "\n",
    "#Use this DF for all work- It holds all the users aged 19 to 65\n",
    "max_age_df = (clean_df[clean_df['age']<(max_age)])\n",
    "max_age_df.shape\n",
    "#1.71882M records"
   ]
  },
  {
   "cell_type": "code",
   "execution_count": null,
   "metadata": {},
   "outputs": [],
   "source": [
    "clean_df=pd.DataFrame(max_age_df)\n",
    "# clean_df.head()"
   ]
  }
 ],
 "metadata": {
  "kernelspec": {
   "display_name": "Python 3",
   "language": "python",
   "name": "python3"
  },
  "language_info": {
   "codemirror_mode": {
    "name": "ipython",
    "version": 3
   },
   "file_extension": ".py",
   "mimetype": "text/x-python",
   "name": "python",
   "nbconvert_exporter": "python",
   "pygments_lexer": "ipython3",
   "version": "3.7.1"
  }
 },
 "nbformat": 4,
 "nbformat_minor": 2
}
